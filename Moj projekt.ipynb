{
 "cells": [
  {
   "cell_type": "markdown",
   "metadata": {},
   "source": [
    "# YouTube statistika"
   ]
  },
  {
   "cell_type": "markdown",
   "metadata": {},
   "source": [
    "Za svoj projekt sem si izbral analizo najbolj popularnih kanalov na YouTube-u. Podatke sem pobral s strani [SocialBlade](http://www.socialblade.com). Iz vsake kategorije sem pobral 100 najbolj popularnih kanalov glede na njihovo lestvico priljubljenosti."
   ]
  },
  {
   "cell_type": "code",
   "execution_count": 1,
   "metadata": {
    "collapsed": false
   },
   "outputs": [],
   "source": [
    "import pandas as pd\n",
    "%matplotlib inline\n",
    "\n",
    "pd.options.display.max_rows = 20"
   ]
  },
  {
   "cell_type": "code",
   "execution_count": 2,
   "metadata": {
    "collapsed": false
   },
   "outputs": [
    {
     "data": {
      "text/html": [
       "<div>\n",
       "<table border=\"1\" class=\"dataframe\">\n",
       "  <thead>\n",
       "    <tr style=\"text-align: right;\">\n",
       "      <th></th>\n",
       "      <th>user</th>\n",
       "      <th>type</th>\n",
       "      <th>date</th>\n",
       "      <th>country</th>\n",
       "      <th>uploads</th>\n",
       "      <th>views</th>\n",
       "      <th>subs</th>\n",
       "    </tr>\n",
       "  </thead>\n",
       "  <tbody>\n",
       "    <tr>\n",
       "      <th>0</th>\n",
       "      <td>2011flowerpower</td>\n",
       "      <td>animals</td>\n",
       "      <td>2011-01-29</td>\n",
       "      <td>ca</td>\n",
       "      <td>1</td>\n",
       "      <td>16182813</td>\n",
       "      <td>18118</td>\n",
       "    </tr>\n",
       "    <tr>\n",
       "      <th>1</th>\n",
       "      <td>20cissne</td>\n",
       "      <td>animals</td>\n",
       "      <td>2008-05-26</td>\n",
       "      <td>pe</td>\n",
       "      <td>237</td>\n",
       "      <td>44229511</td>\n",
       "      <td>33193</td>\n",
       "    </tr>\n",
       "    <tr>\n",
       "      <th>2</th>\n",
       "      <td>aaaz38</td>\n",
       "      <td>animals</td>\n",
       "      <td>2010-01-24</td>\n",
       "      <td>ua</td>\n",
       "      <td>646</td>\n",
       "      <td>16724438</td>\n",
       "      <td>14306</td>\n",
       "    </tr>\n",
       "    <tr>\n",
       "      <th>3</th>\n",
       "      <td>alejitis12</td>\n",
       "      <td>animals</td>\n",
       "      <td>2008-10-03</td>\n",
       "      <td>co</td>\n",
       "      <td>19</td>\n",
       "      <td>43675266</td>\n",
       "      <td>19378</td>\n",
       "    </tr>\n",
       "    <tr>\n",
       "      <th>4</th>\n",
       "      <td>aleshkanelepiy</td>\n",
       "      <td>animals</td>\n",
       "      <td>2010-08-27</td>\n",
       "      <td>de</td>\n",
       "      <td>6</td>\n",
       "      <td>3405694</td>\n",
       "      <td>754</td>\n",
       "    </tr>\n",
       "    <tr>\n",
       "      <th>5</th>\n",
       "      <td>andrewucles</td>\n",
       "      <td>animals</td>\n",
       "      <td>2012-07-09</td>\n",
       "      <td>au</td>\n",
       "      <td>55</td>\n",
       "      <td>92595214</td>\n",
       "      <td>434662</td>\n",
       "    </tr>\n",
       "    <tr>\n",
       "      <th>6</th>\n",
       "      <td>animalaidunlimited</td>\n",
       "      <td>animals</td>\n",
       "      <td>2008-08-02</td>\n",
       "      <td>in</td>\n",
       "      <td>80</td>\n",
       "      <td>87871741</td>\n",
       "      <td>214886</td>\n",
       "    </tr>\n",
       "    <tr>\n",
       "      <th>7</th>\n",
       "      <td>animaleg2014</td>\n",
       "      <td>animals</td>\n",
       "      <td>2014-04-04</td>\n",
       "      <td>eg</td>\n",
       "      <td>195</td>\n",
       "      <td>62015409</td>\n",
       "      <td>49295</td>\n",
       "    </tr>\n",
       "    <tr>\n",
       "      <th>8</th>\n",
       "      <td>animalwire</td>\n",
       "      <td>animals</td>\n",
       "      <td>2012-10-09</td>\n",
       "      <td>us</td>\n",
       "      <td>130</td>\n",
       "      <td>157317509</td>\n",
       "      <td>222740</td>\n",
       "    </tr>\n",
       "    <tr>\n",
       "      <th>9</th>\n",
       "      <td>animalztv4u</td>\n",
       "      <td>animals</td>\n",
       "      <td>2014-05-20</td>\n",
       "      <td>us</td>\n",
       "      <td>98</td>\n",
       "      <td>23447775</td>\n",
       "      <td>54649</td>\n",
       "    </tr>\n",
       "    <tr>\n",
       "      <th>...</th>\n",
       "      <td>...</td>\n",
       "      <td>...</td>\n",
       "      <td>...</td>\n",
       "      <td>...</td>\n",
       "      <td>...</td>\n",
       "      <td>...</td>\n",
       "      <td>...</td>\n",
       "    </tr>\n",
       "    <tr>\n",
       "      <th>1589</th>\n",
       "      <td>visaespanol</td>\n",
       "      <td>travel</td>\n",
       "      <td>2013-05-31</td>\n",
       "      <td>us</td>\n",
       "      <td>157</td>\n",
       "      <td>20831865</td>\n",
       "      <td>4161</td>\n",
       "    </tr>\n",
       "    <tr>\n",
       "      <th>1590</th>\n",
       "      <td>visitarg</td>\n",
       "      <td>travel</td>\n",
       "      <td>2010-01-14</td>\n",
       "      <td>ar</td>\n",
       "      <td>459</td>\n",
       "      <td>11214547</td>\n",
       "      <td>3771</td>\n",
       "    </tr>\n",
       "    <tr>\n",
       "      <th>1591</th>\n",
       "      <td>visitjordan</td>\n",
       "      <td>travel</td>\n",
       "      <td>2008-02-28</td>\n",
       "      <td>jo</td>\n",
       "      <td>272</td>\n",
       "      <td>47057690</td>\n",
       "      <td>8366</td>\n",
       "    </tr>\n",
       "    <tr>\n",
       "      <th>1592</th>\n",
       "      <td>visitportugal</td>\n",
       "      <td>travel</td>\n",
       "      <td>2008-11-20</td>\n",
       "      <td>pt</td>\n",
       "      <td>233</td>\n",
       "      <td>15920954</td>\n",
       "      <td>9062</td>\n",
       "    </tr>\n",
       "    <tr>\n",
       "      <th>1593</th>\n",
       "      <td>wildfilmsindia</td>\n",
       "      <td>travel</td>\n",
       "      <td>2006-07-13</td>\n",
       "      <td>in</td>\n",
       "      <td>62789</td>\n",
       "      <td>186450209</td>\n",
       "      <td>134800</td>\n",
       "    </tr>\n",
       "    <tr>\n",
       "      <th>1594</th>\n",
       "      <td>wipandco</td>\n",
       "      <td>travel</td>\n",
       "      <td>2008-07-19</td>\n",
       "      <td>fr</td>\n",
       "      <td>59</td>\n",
       "      <td>6764743</td>\n",
       "      <td>674</td>\n",
       "    </tr>\n",
       "    <tr>\n",
       "      <th>1595</th>\n",
       "      <td>wwwcoasterforcecom</td>\n",
       "      <td>travel</td>\n",
       "      <td>2006-06-26</td>\n",
       "      <td>us</td>\n",
       "      <td>2436</td>\n",
       "      <td>183664973</td>\n",
       "      <td>224283</td>\n",
       "    </tr>\n",
       "    <tr>\n",
       "      <th>1596</th>\n",
       "      <td>yoursingapore</td>\n",
       "      <td>travel</td>\n",
       "      <td>2010-02-24</td>\n",
       "      <td>sg</td>\n",
       "      <td>229</td>\n",
       "      <td>14797476</td>\n",
       "      <td>7614</td>\n",
       "    </tr>\n",
       "    <tr>\n",
       "      <th>1597</th>\n",
       "      <td>ytcampaignsspace</td>\n",
       "      <td>travel</td>\n",
       "      <td>2012-01-05</td>\n",
       "      <td>NaN</td>\n",
       "      <td>331</td>\n",
       "      <td>66754428</td>\n",
       "      <td>4817</td>\n",
       "    </tr>\n",
       "    <tr>\n",
       "      <th>1598</th>\n",
       "      <td>zagat</td>\n",
       "      <td>travel</td>\n",
       "      <td>2006-05-03</td>\n",
       "      <td>us</td>\n",
       "      <td>1008</td>\n",
       "      <td>32147093</td>\n",
       "      <td>83158</td>\n",
       "    </tr>\n",
       "  </tbody>\n",
       "</table>\n",
       "<p>1599 rows × 7 columns</p>\n",
       "</div>"
      ],
      "text/plain": [
       "                    user     type       date country  uploads      views  \\\n",
       "0        2011flowerpower  animals 2011-01-29      ca        1   16182813   \n",
       "1               20cissne  animals 2008-05-26      pe      237   44229511   \n",
       "2                 aaaz38  animals 2010-01-24      ua      646   16724438   \n",
       "3             alejitis12  animals 2008-10-03      co       19   43675266   \n",
       "4         aleshkanelepiy  animals 2010-08-27      de        6    3405694   \n",
       "5            andrewucles  animals 2012-07-09      au       55   92595214   \n",
       "6     animalaidunlimited  animals 2008-08-02      in       80   87871741   \n",
       "7           animaleg2014  animals 2014-04-04      eg      195   62015409   \n",
       "8             animalwire  animals 2012-10-09      us      130  157317509   \n",
       "9            animalztv4u  animals 2014-05-20      us       98   23447775   \n",
       "...                  ...      ...        ...     ...      ...        ...   \n",
       "1589         visaespanol   travel 2013-05-31      us      157   20831865   \n",
       "1590            visitarg   travel 2010-01-14      ar      459   11214547   \n",
       "1591         visitjordan   travel 2008-02-28      jo      272   47057690   \n",
       "1592       visitportugal   travel 2008-11-20      pt      233   15920954   \n",
       "1593      wildfilmsindia   travel 2006-07-13      in    62789  186450209   \n",
       "1594            wipandco   travel 2008-07-19      fr       59    6764743   \n",
       "1595  wwwcoasterforcecom   travel 2006-06-26      us     2436  183664973   \n",
       "1596       yoursingapore   travel 2010-02-24      sg      229   14797476   \n",
       "1597    ytcampaignsspace   travel 2012-01-05     NaN      331   66754428   \n",
       "1598               zagat   travel 2006-05-03      us     1008   32147093   \n",
       "\n",
       "        subs  \n",
       "0      18118  \n",
       "1      33193  \n",
       "2      14306  \n",
       "3      19378  \n",
       "4        754  \n",
       "5     434662  \n",
       "6     214886  \n",
       "7      49295  \n",
       "8     222740  \n",
       "9      54649  \n",
       "...      ...  \n",
       "1589    4161  \n",
       "1590    3771  \n",
       "1591    8366  \n",
       "1592    9062  \n",
       "1593  134800  \n",
       "1594     674  \n",
       "1595  224283  \n",
       "1596    7614  \n",
       "1597    4817  \n",
       "1598   83158  \n",
       "\n",
       "[1599 rows x 7 columns]"
      ]
     },
     "execution_count": 2,
     "metadata": {},
     "output_type": "execute_result"
    }
   ],
   "source": [
    "podatki = pd.read_csv('podatki.csv', thousands=',', parse_dates=['date'])\n",
    "podatki"
   ]
  },
  {
   "cell_type": "markdown",
   "metadata": {},
   "source": [
    "Za začetek si oglejmo, kateri kanali imajo največ ogledov, da dobimo občutek o velikostnem razredu številk."
   ]
  },
  {
   "cell_type": "code",
   "execution_count": 7,
   "metadata": {
    "collapsed": false
   },
   "outputs": [
    {
     "data": {
      "text/html": [
       "<div>\n",
       "<table border=\"1\" class=\"dataframe\">\n",
       "  <thead>\n",
       "    <tr style=\"text-align: right;\">\n",
       "      <th></th>\n",
       "      <th>user</th>\n",
       "      <th>views</th>\n",
       "      <th>type</th>\n",
       "    </tr>\n",
       "  </thead>\n",
       "  <tbody>\n",
       "    <tr>\n",
       "      <th>1165</th>\n",
       "      <td>pewdiepie</td>\n",
       "      <td>11187386766</td>\n",
       "      <td>people</td>\n",
       "    </tr>\n",
       "    <tr>\n",
       "      <th>828</th>\n",
       "      <td>emimusic</td>\n",
       "      <td>10062249774</td>\n",
       "      <td>music</td>\n",
       "    </tr>\n",
       "    <tr>\n",
       "      <th>423</th>\n",
       "      <td>disneycollectorbr</td>\n",
       "      <td>9804088769</td>\n",
       "      <td>entertainment</td>\n",
       "    </tr>\n",
       "    <tr>\n",
       "      <th>845</th>\n",
       "      <td>justinbiebervevo</td>\n",
       "      <td>9084593026</td>\n",
       "      <td>music</td>\n",
       "    </tr>\n",
       "    <tr>\n",
       "      <th>891</th>\n",
       "      <td>taylorswiftvevo</td>\n",
       "      <td>7991781871</td>\n",
       "      <td>music</td>\n",
       "    </tr>\n",
       "    <tr>\n",
       "      <th>875</th>\n",
       "      <td>rihannavevo</td>\n",
       "      <td>7929848998</td>\n",
       "      <td>music</td>\n",
       "    </tr>\n",
       "    <tr>\n",
       "      <th>433</th>\n",
       "      <td>getmovies</td>\n",
       "      <td>7402950570</td>\n",
       "      <td>entertainment</td>\n",
       "    </tr>\n",
       "    <tr>\n",
       "      <th>1394</th>\n",
       "      <td>wwefannation</td>\n",
       "      <td>7328735583</td>\n",
       "      <td>sports</td>\n",
       "    </tr>\n",
       "    <tr>\n",
       "      <th>888</th>\n",
       "      <td>spinninrec</td>\n",
       "      <td>7092030652</td>\n",
       "      <td>music</td>\n",
       "    </tr>\n",
       "    <tr>\n",
       "      <th>846</th>\n",
       "      <td>katyperryvevo</td>\n",
       "      <td>6966864661</td>\n",
       "      <td>music</td>\n",
       "    </tr>\n",
       "    <tr>\n",
       "      <th>895</th>\n",
       "      <td>tseries</td>\n",
       "      <td>6783723889</td>\n",
       "      <td>music</td>\n",
       "    </tr>\n",
       "    <tr>\n",
       "      <th>551</th>\n",
       "      <td>mashamedvedtv</td>\n",
       "      <td>6586583300</td>\n",
       "      <td>film</td>\n",
       "    </tr>\n",
       "    <tr>\n",
       "      <th>482</th>\n",
       "      <td>theellenshow</td>\n",
       "      <td>6369201487</td>\n",
       "      <td>entertainment</td>\n",
       "    </tr>\n",
       "    <tr>\n",
       "      <th>346</th>\n",
       "      <td>littlebabybum</td>\n",
       "      <td>6354394526</td>\n",
       "      <td>education</td>\n",
       "    </tr>\n",
       "    <tr>\n",
       "      <th>829</th>\n",
       "      <td>eminemvevo</td>\n",
       "      <td>6073313606</td>\n",
       "      <td>music</td>\n",
       "    </tr>\n",
       "  </tbody>\n",
       "</table>\n",
       "</div>"
      ],
      "text/plain": [
       "                   user        views           type\n",
       "1165          pewdiepie  11187386766         people\n",
       "828            emimusic  10062249774          music\n",
       "423   disneycollectorbr   9804088769  entertainment\n",
       "845    justinbiebervevo   9084593026          music\n",
       "891     taylorswiftvevo   7991781871          music\n",
       "875         rihannavevo   7929848998          music\n",
       "433           getmovies   7402950570  entertainment\n",
       "1394       wwefannation   7328735583         sports\n",
       "888          spinninrec   7092030652          music\n",
       "846       katyperryvevo   6966864661          music\n",
       "895             tseries   6783723889          music\n",
       "551       mashamedvedtv   6586583300           film\n",
       "482        theellenshow   6369201487  entertainment\n",
       "346       littlebabybum   6354394526      education\n",
       "829          eminemvevo   6073313606          music"
      ]
     },
     "execution_count": 7,
     "metadata": {},
     "output_type": "execute_result"
    }
   ],
   "source": [
    "podatki[['user', 'views', 'type']].sort_values(['views'], ascending=False).head(15)"
   ]
  },
  {
   "cell_type": "markdown",
   "metadata": {},
   "source": [
    "Podatkom dodamo dodatne stolpce za kasnejšo analizo:\n",
    "* **primerjava** je razmerje med naročniki in ogledi v procentih\n",
    "* **primerjava1** nam pove povprečno število ogledov na posamezen video\n",
    "* v zadnji stolpec iz datuma zapišemo samo leto, po katerem bomo kasneje primerjali"
   ]
  },
  {
   "cell_type": "code",
   "execution_count": 3,
   "metadata": {
    "collapsed": false
   },
   "outputs": [
    {
     "data": {
      "text/html": [
       "<div>\n",
       "<table border=\"1\" class=\"dataframe\">\n",
       "  <thead>\n",
       "    <tr style=\"text-align: right;\">\n",
       "      <th></th>\n",
       "      <th>user</th>\n",
       "      <th>type</th>\n",
       "      <th>date</th>\n",
       "      <th>country</th>\n",
       "      <th>uploads</th>\n",
       "      <th>views</th>\n",
       "      <th>subs</th>\n",
       "      <th>primerjava</th>\n",
       "      <th>primerjava1</th>\n",
       "      <th>year</th>\n",
       "    </tr>\n",
       "  </thead>\n",
       "  <tbody>\n",
       "    <tr>\n",
       "      <th>0</th>\n",
       "      <td>2011flowerpower</td>\n",
       "      <td>animals</td>\n",
       "      <td>2011-01-29</td>\n",
       "      <td>ca</td>\n",
       "      <td>1</td>\n",
       "      <td>16182813</td>\n",
       "      <td>18118</td>\n",
       "      <td>0.111958</td>\n",
       "      <td>16182813.000000</td>\n",
       "      <td>2011</td>\n",
       "    </tr>\n",
       "    <tr>\n",
       "      <th>1</th>\n",
       "      <td>20cissne</td>\n",
       "      <td>animals</td>\n",
       "      <td>2008-05-26</td>\n",
       "      <td>pe</td>\n",
       "      <td>237</td>\n",
       "      <td>44229511</td>\n",
       "      <td>33193</td>\n",
       "      <td>0.075047</td>\n",
       "      <td>186622.409283</td>\n",
       "      <td>2008</td>\n",
       "    </tr>\n",
       "    <tr>\n",
       "      <th>2</th>\n",
       "      <td>aaaz38</td>\n",
       "      <td>animals</td>\n",
       "      <td>2010-01-24</td>\n",
       "      <td>ua</td>\n",
       "      <td>646</td>\n",
       "      <td>16724438</td>\n",
       "      <td>14306</td>\n",
       "      <td>0.085539</td>\n",
       "      <td>25889.222910</td>\n",
       "      <td>2010</td>\n",
       "    </tr>\n",
       "    <tr>\n",
       "      <th>3</th>\n",
       "      <td>alejitis12</td>\n",
       "      <td>animals</td>\n",
       "      <td>2008-10-03</td>\n",
       "      <td>co</td>\n",
       "      <td>19</td>\n",
       "      <td>43675266</td>\n",
       "      <td>19378</td>\n",
       "      <td>0.044368</td>\n",
       "      <td>2298698.210526</td>\n",
       "      <td>2008</td>\n",
       "    </tr>\n",
       "    <tr>\n",
       "      <th>4</th>\n",
       "      <td>aleshkanelepiy</td>\n",
       "      <td>animals</td>\n",
       "      <td>2010-08-27</td>\n",
       "      <td>de</td>\n",
       "      <td>6</td>\n",
       "      <td>3405694</td>\n",
       "      <td>754</td>\n",
       "      <td>0.022139</td>\n",
       "      <td>567615.666667</td>\n",
       "      <td>2010</td>\n",
       "    </tr>\n",
       "    <tr>\n",
       "      <th>5</th>\n",
       "      <td>andrewucles</td>\n",
       "      <td>animals</td>\n",
       "      <td>2012-07-09</td>\n",
       "      <td>au</td>\n",
       "      <td>55</td>\n",
       "      <td>92595214</td>\n",
       "      <td>434662</td>\n",
       "      <td>0.469422</td>\n",
       "      <td>1683549.345455</td>\n",
       "      <td>2012</td>\n",
       "    </tr>\n",
       "    <tr>\n",
       "      <th>6</th>\n",
       "      <td>animalaidunlimited</td>\n",
       "      <td>animals</td>\n",
       "      <td>2008-08-02</td>\n",
       "      <td>in</td>\n",
       "      <td>80</td>\n",
       "      <td>87871741</td>\n",
       "      <td>214886</td>\n",
       "      <td>0.244545</td>\n",
       "      <td>1098396.762500</td>\n",
       "      <td>2008</td>\n",
       "    </tr>\n",
       "    <tr>\n",
       "      <th>7</th>\n",
       "      <td>animaleg2014</td>\n",
       "      <td>animals</td>\n",
       "      <td>2014-04-04</td>\n",
       "      <td>eg</td>\n",
       "      <td>195</td>\n",
       "      <td>62015409</td>\n",
       "      <td>49295</td>\n",
       "      <td>0.079488</td>\n",
       "      <td>318027.738462</td>\n",
       "      <td>2014</td>\n",
       "    </tr>\n",
       "    <tr>\n",
       "      <th>8</th>\n",
       "      <td>animalwire</td>\n",
       "      <td>animals</td>\n",
       "      <td>2012-10-09</td>\n",
       "      <td>us</td>\n",
       "      <td>130</td>\n",
       "      <td>157317509</td>\n",
       "      <td>222740</td>\n",
       "      <td>0.141586</td>\n",
       "      <td>1210134.684615</td>\n",
       "      <td>2012</td>\n",
       "    </tr>\n",
       "    <tr>\n",
       "      <th>9</th>\n",
       "      <td>animalztv4u</td>\n",
       "      <td>animals</td>\n",
       "      <td>2014-05-20</td>\n",
       "      <td>us</td>\n",
       "      <td>98</td>\n",
       "      <td>23447775</td>\n",
       "      <td>54649</td>\n",
       "      <td>0.233067</td>\n",
       "      <td>239263.010204</td>\n",
       "      <td>2014</td>\n",
       "    </tr>\n",
       "    <tr>\n",
       "      <th>...</th>\n",
       "      <td>...</td>\n",
       "      <td>...</td>\n",
       "      <td>...</td>\n",
       "      <td>...</td>\n",
       "      <td>...</td>\n",
       "      <td>...</td>\n",
       "      <td>...</td>\n",
       "      <td>...</td>\n",
       "      <td>...</td>\n",
       "      <td>...</td>\n",
       "    </tr>\n",
       "    <tr>\n",
       "      <th>1589</th>\n",
       "      <td>visaespanol</td>\n",
       "      <td>travel</td>\n",
       "      <td>2013-05-31</td>\n",
       "      <td>us</td>\n",
       "      <td>157</td>\n",
       "      <td>20831865</td>\n",
       "      <td>4161</td>\n",
       "      <td>0.019974</td>\n",
       "      <td>132687.038217</td>\n",
       "      <td>2013</td>\n",
       "    </tr>\n",
       "    <tr>\n",
       "      <th>1590</th>\n",
       "      <td>visitarg</td>\n",
       "      <td>travel</td>\n",
       "      <td>2010-01-14</td>\n",
       "      <td>ar</td>\n",
       "      <td>459</td>\n",
       "      <td>11214547</td>\n",
       "      <td>3771</td>\n",
       "      <td>0.033626</td>\n",
       "      <td>24432.564270</td>\n",
       "      <td>2010</td>\n",
       "    </tr>\n",
       "    <tr>\n",
       "      <th>1591</th>\n",
       "      <td>visitjordan</td>\n",
       "      <td>travel</td>\n",
       "      <td>2008-02-28</td>\n",
       "      <td>jo</td>\n",
       "      <td>272</td>\n",
       "      <td>47057690</td>\n",
       "      <td>8366</td>\n",
       "      <td>0.017778</td>\n",
       "      <td>173006.213235</td>\n",
       "      <td>2008</td>\n",
       "    </tr>\n",
       "    <tr>\n",
       "      <th>1592</th>\n",
       "      <td>visitportugal</td>\n",
       "      <td>travel</td>\n",
       "      <td>2008-11-20</td>\n",
       "      <td>pt</td>\n",
       "      <td>233</td>\n",
       "      <td>15920954</td>\n",
       "      <td>9062</td>\n",
       "      <td>0.056919</td>\n",
       "      <td>68330.274678</td>\n",
       "      <td>2008</td>\n",
       "    </tr>\n",
       "    <tr>\n",
       "      <th>1593</th>\n",
       "      <td>wildfilmsindia</td>\n",
       "      <td>travel</td>\n",
       "      <td>2006-07-13</td>\n",
       "      <td>in</td>\n",
       "      <td>62789</td>\n",
       "      <td>186450209</td>\n",
       "      <td>134800</td>\n",
       "      <td>0.072298</td>\n",
       "      <td>2969.472503</td>\n",
       "      <td>2006</td>\n",
       "    </tr>\n",
       "    <tr>\n",
       "      <th>1594</th>\n",
       "      <td>wipandco</td>\n",
       "      <td>travel</td>\n",
       "      <td>2008-07-19</td>\n",
       "      <td>fr</td>\n",
       "      <td>59</td>\n",
       "      <td>6764743</td>\n",
       "      <td>674</td>\n",
       "      <td>0.009963</td>\n",
       "      <td>114656.661017</td>\n",
       "      <td>2008</td>\n",
       "    </tr>\n",
       "    <tr>\n",
       "      <th>1595</th>\n",
       "      <td>wwwcoasterforcecom</td>\n",
       "      <td>travel</td>\n",
       "      <td>2006-06-26</td>\n",
       "      <td>us</td>\n",
       "      <td>2436</td>\n",
       "      <td>183664973</td>\n",
       "      <td>224283</td>\n",
       "      <td>0.122115</td>\n",
       "      <td>75396.130131</td>\n",
       "      <td>2006</td>\n",
       "    </tr>\n",
       "    <tr>\n",
       "      <th>1596</th>\n",
       "      <td>yoursingapore</td>\n",
       "      <td>travel</td>\n",
       "      <td>2010-02-24</td>\n",
       "      <td>sg</td>\n",
       "      <td>229</td>\n",
       "      <td>14797476</td>\n",
       "      <td>7614</td>\n",
       "      <td>0.051455</td>\n",
       "      <td>64617.799127</td>\n",
       "      <td>2010</td>\n",
       "    </tr>\n",
       "    <tr>\n",
       "      <th>1597</th>\n",
       "      <td>ytcampaignsspace</td>\n",
       "      <td>travel</td>\n",
       "      <td>2012-01-05</td>\n",
       "      <td>NaN</td>\n",
       "      <td>331</td>\n",
       "      <td>66754428</td>\n",
       "      <td>4817</td>\n",
       "      <td>0.007216</td>\n",
       "      <td>201675.009063</td>\n",
       "      <td>2012</td>\n",
       "    </tr>\n",
       "    <tr>\n",
       "      <th>1598</th>\n",
       "      <td>zagat</td>\n",
       "      <td>travel</td>\n",
       "      <td>2006-05-03</td>\n",
       "      <td>us</td>\n",
       "      <td>1008</td>\n",
       "      <td>32147093</td>\n",
       "      <td>83158</td>\n",
       "      <td>0.258680</td>\n",
       "      <td>31891.957341</td>\n",
       "      <td>2006</td>\n",
       "    </tr>\n",
       "  </tbody>\n",
       "</table>\n",
       "<p>1599 rows × 10 columns</p>\n",
       "</div>"
      ],
      "text/plain": [
       "                    user     type       date country  uploads      views  \\\n",
       "0        2011flowerpower  animals 2011-01-29      ca        1   16182813   \n",
       "1               20cissne  animals 2008-05-26      pe      237   44229511   \n",
       "2                 aaaz38  animals 2010-01-24      ua      646   16724438   \n",
       "3             alejitis12  animals 2008-10-03      co       19   43675266   \n",
       "4         aleshkanelepiy  animals 2010-08-27      de        6    3405694   \n",
       "5            andrewucles  animals 2012-07-09      au       55   92595214   \n",
       "6     animalaidunlimited  animals 2008-08-02      in       80   87871741   \n",
       "7           animaleg2014  animals 2014-04-04      eg      195   62015409   \n",
       "8             animalwire  animals 2012-10-09      us      130  157317509   \n",
       "9            animalztv4u  animals 2014-05-20      us       98   23447775   \n",
       "...                  ...      ...        ...     ...      ...        ...   \n",
       "1589         visaespanol   travel 2013-05-31      us      157   20831865   \n",
       "1590            visitarg   travel 2010-01-14      ar      459   11214547   \n",
       "1591         visitjordan   travel 2008-02-28      jo      272   47057690   \n",
       "1592       visitportugal   travel 2008-11-20      pt      233   15920954   \n",
       "1593      wildfilmsindia   travel 2006-07-13      in    62789  186450209   \n",
       "1594            wipandco   travel 2008-07-19      fr       59    6764743   \n",
       "1595  wwwcoasterforcecom   travel 2006-06-26      us     2436  183664973   \n",
       "1596       yoursingapore   travel 2010-02-24      sg      229   14797476   \n",
       "1597    ytcampaignsspace   travel 2012-01-05     NaN      331   66754428   \n",
       "1598               zagat   travel 2006-05-03      us     1008   32147093   \n",
       "\n",
       "        subs  primerjava      primerjava1  year  \n",
       "0      18118    0.111958  16182813.000000  2011  \n",
       "1      33193    0.075047    186622.409283  2008  \n",
       "2      14306    0.085539     25889.222910  2010  \n",
       "3      19378    0.044368   2298698.210526  2008  \n",
       "4        754    0.022139    567615.666667  2010  \n",
       "5     434662    0.469422   1683549.345455  2012  \n",
       "6     214886    0.244545   1098396.762500  2008  \n",
       "7      49295    0.079488    318027.738462  2014  \n",
       "8     222740    0.141586   1210134.684615  2012  \n",
       "9      54649    0.233067    239263.010204  2014  \n",
       "...      ...         ...              ...   ...  \n",
       "1589    4161    0.019974    132687.038217  2013  \n",
       "1590    3771    0.033626     24432.564270  2010  \n",
       "1591    8366    0.017778    173006.213235  2008  \n",
       "1592    9062    0.056919     68330.274678  2008  \n",
       "1593  134800    0.072298      2969.472503  2006  \n",
       "1594     674    0.009963    114656.661017  2008  \n",
       "1595  224283    0.122115     75396.130131  2006  \n",
       "1596    7614    0.051455     64617.799127  2010  \n",
       "1597    4817    0.007216    201675.009063  2012  \n",
       "1598   83158    0.258680     31891.957341  2006  \n",
       "\n",
       "[1599 rows x 10 columns]"
      ]
     },
     "execution_count": 3,
     "metadata": {},
     "output_type": "execute_result"
    }
   ],
   "source": [
    "podatki['primerjava'] = podatki['subs'] / podatki['views'] * 100\n",
    "podatki['primerjava1'] = podatki['views'] / podatki['uploads']\n",
    "podatki['year'] = podatki['date'].map(lambda x: x.year)\n",
    "podatki"
   ]
  },
  {
   "cell_type": "markdown",
   "metadata": {},
   "source": [
    "Podatke združimo po letih, da vidimo, kako so razporejeni glede na leto nastanka. Na grafu se pokaže, da je vsako leto več kanalov, ki so med najbolj popularnimi, če ne upoštevamo zadnjih parih let (mlajši kanali še niso imeli dovolj časa, da pridobijo oglede in naročnike)."
   ]
  },
  {
   "cell_type": "code",
   "execution_count": 18,
   "metadata": {
    "collapsed": false
   },
   "outputs": [
    {
     "data": {
      "text/plain": [
       "year\n",
       "1969      1\n",
       "2005     24\n",
       "2006    194\n",
       "2007    130\n",
       "2008    123\n",
       "2009    152\n",
       "2010    160\n",
       "2011    203\n",
       "2012    260\n",
       "2013    199\n",
       "2014    151\n",
       "2015      2\n",
       "dtype: int64"
      ]
     },
     "execution_count": 18,
     "metadata": {},
     "output_type": "execute_result"
    }
   ],
   "source": [
    "podatki.groupby('year').size()"
   ]
  },
  {
   "cell_type": "code",
   "execution_count": 19,
   "metadata": {
    "collapsed": false
   },
   "outputs": [
    {
     "data": {
      "text/plain": [
       "<matplotlib.axes._subplots.AxesSubplot at 0x7b57870>"
      ]
     },
     "execution_count": 19,
     "metadata": {},
     "output_type": "execute_result"
    },
    {
     "data": {
      "image/png": "[encoded data removed]",
      "text/plain": [
       "<matplotlib.figure.Figure at 0x7b61410>"
      ]
     },
     "metadata": {},
     "output_type": "display_data"
    }
   ],
   "source": [
    "podatki.groupby('year').size().plot(kind='bar', figsize=(8, 7), fontsize=12)"
   ]
  },
  {
   "cell_type": "markdown",
   "metadata": {},
   "source": [
    "Če podatke združimo po letih in kategorijah, si lahko ogledamo popularnost posameznih zvrsti kanalov skozi leta."
   ]
  },
  {
   "cell_type": "code",
   "execution_count": 108,
   "metadata": {
    "collapsed": false
   },
   "outputs": [
    {
     "data": {
      "text/plain": [
       "<matplotlib.legend.Legend at 0x15e58ff0>"
      ]
     },
     "execution_count": 108,
     "metadata": {},
     "output_type": "execute_result"
    },
    {
     "data": {
      "image/png": "[encoded data removed]",
      "text/plain": [
       "<matplotlib.figure.Figure at 0x157a9210>"
      ]
     },
     "metadata": {},
     "output_type": "display_data"
    }
   ],
   "source": [
    "graf = podatki.groupby(['year', 'type']).size().unstack().plot(kind='bar', stacked=True, figsize=(12, 10), fontsize=12)\n",
    "graf.legend(loc=9, ncol=8)"
   ]
  },
  {
   "cell_type": "markdown",
   "metadata": {},
   "source": [
    "Leta 2009 je bilo izjemno veliko novo ustanovljenih glasbenih kanalov, v zadnjih letih pa je vse več kanalov iz kategorij filmi in računalniške igrice."
   ]
  },
  {
   "cell_type": "code",
   "execution_count": 45,
   "metadata": {
    "collapsed": false
   },
   "outputs": [
    {
     "data": {
      "text/plain": [
       "<matplotlib.axes._subplots.AxesSubplot at 0x8129ad0>"
      ]
     },
     "execution_count": 45,
     "metadata": {},
     "output_type": "execute_result"
    },
    {
     "data": {
      "image/png": "[encoded data removed]",
      "text/plain": [
       "<matplotlib.figure.Figure at 0x8161890>"
      ]
     },
     "metadata": {},
     "output_type": "display_data"
    }
   ],
   "source": [
    "podatki[(podatki.type == 'music') | (podatki.type == 'games') | (podatki.type == 'film')]\\\n",
    "        .groupby(['year', 'type']).size().unstack().plot(kind='bar', figsize=(12, 10), fontsize=12)"
   ]
  },
  {
   "cell_type": "markdown",
   "metadata": {},
   "source": [
    "Sedaj bomo primerjali kanale glede na kategorije."
   ]
  },
  {
   "cell_type": "code",
   "execution_count": 6,
   "metadata": {
    "collapsed": false
   },
   "outputs": [],
   "source": [
    "zvrsti = podatki[podatki.uploads > 0].groupby('type')"
   ]
  },
  {
   "cell_type": "markdown",
   "metadata": {},
   "source": [
    "Pri povprečnih ogledih celotnega kanala in ogledih na posamezni video so glasbeni kanali daleč v ospredju. Sledijo jim razvedrilni kanali, filmski in komedijski kanali."
   ]
  },
  {
   "cell_type": "code",
   "execution_count": 13,
   "metadata": {
    "collapsed": false
   },
   "outputs": [
    {
     "data": {
      "text/plain": [
       "type\n",
       "music            2698788594\n",
       "entertainment    1741877832\n",
       "games            1214138588\n",
       "comedy            855065059\n",
       "film              781578193\n",
       "education         611379222\n",
       "people            560825059\n",
       "news              425354300\n",
       "howto             375053947\n",
       "sports            319119785\n",
       "tech              241089025\n",
       "shows             198424042\n",
       "autos             150991937\n",
       "animals           138202146\n",
       "travel            100763306\n",
       "nonprofit          57608846\n",
       "Name: views, dtype: int64"
      ]
     },
     "execution_count": 13,
     "metadata": {},
     "output_type": "execute_result"
    }
   ],
   "source": [
    "zvrsti['views'].mean().sort_values(ascending=False)"
   ]
  },
  {
   "cell_type": "code",
   "execution_count": 57,
   "metadata": {
    "collapsed": false
   },
   "outputs": [
    {
     "data": {
      "text/plain": [
       "type\n",
       "music            25527626.105094\n",
       "film              4883376.136688\n",
       "education         3394752.777144\n",
       "comedy            2658544.144560\n",
       "entertainment     2304371.405040\n",
       "travel            1874007.885352\n",
       "sports            1185882.629731\n",
       "people            1156667.610129\n",
       "games             1069987.645142\n",
       "animals           1062518.717129\n",
       "howto              962843.958046\n",
       "nonprofit          820911.476593\n",
       "tech               557585.436221\n",
       "shows              488299.299568\n",
       "autos              363687.047745\n",
       "news               145451.284101\n",
       "Name: primerjava1, dtype: float64"
      ]
     },
     "execution_count": 57,
     "metadata": {},
     "output_type": "execute_result"
    }
   ],
   "source": [
    "zvrsti['primerjava1'].mean().sort_values(ascending=False)"
   ]
  },
  {
   "cell_type": "markdown",
   "metadata": {},
   "source": [
    "Če pa pogledamo primerjavo med naročniki in skupnimi ogledi vidimo, da se za naročnino na glasbene, filmske ali razvedrilne kanale odloči zelo majhen delež uporabnikov. Veliko večji delež je pri bolj znanstevnih kanalih (tech in howto), ki pa pri skupnem številu ogledov nista v ospredju."
   ]
  },
  {
   "cell_type": "code",
   "execution_count": 58,
   "metadata": {
    "collapsed": false
   },
   "outputs": [
    {
     "data": {
      "text/plain": [
       "type\n",
       "howto            0.677534\n",
       "comedy           0.652859\n",
       "tech             0.560826\n",
       "sports           0.489835\n",
       "people           0.382873\n",
       "shows            0.333428\n",
       "games            0.327407\n",
       "nonprofit        0.316435\n",
       "autos            0.291169\n",
       "travel           0.241548\n",
       "animals          0.210169\n",
       "education        0.202212\n",
       "music            0.197921\n",
       "news             0.190080\n",
       "entertainment    0.159663\n",
       "film             0.128914\n",
       "Name: primerjava, dtype: float64"
      ]
     },
     "execution_count": 58,
     "metadata": {},
     "output_type": "execute_result"
    }
   ],
   "source": [
    "zvrsti['primerjava'].mean().sort_values(ascending=False)"
   ]
  },
  {
   "cell_type": "markdown",
   "metadata": {},
   "source": [
    "Prejšnji komentar približno potrjuje tudi sledeča tabela: ko skupno število ogledov narašča, razmerje med ogledi in naročniki praviloma pada."
   ]
  },
  {
   "cell_type": "code",
   "execution_count": 64,
   "metadata": {
    "collapsed": false
   },
   "outputs": [
    {
     "data": {
      "text/html": [
       "<div>\n",
       "<table border=\"1\" class=\"dataframe\">\n",
       "  <thead>\n",
       "    <tr style=\"text-align: right;\">\n",
       "      <th></th>\n",
       "      <th>views</th>\n",
       "      <th>primerjava</th>\n",
       "    </tr>\n",
       "  </thead>\n",
       "  <tbody>\n",
       "    <tr>\n",
       "      <th>views</th>\n",
       "      <td>1.00000</td>\n",
       "      <td>-0.26724</td>\n",
       "    </tr>\n",
       "    <tr>\n",
       "      <th>primerjava</th>\n",
       "      <td>-0.26724</td>\n",
       "      <td>1.00000</td>\n",
       "    </tr>\n",
       "  </tbody>\n",
       "</table>\n",
       "</div>"
      ],
      "text/plain": [
       "              views  primerjava\n",
       "views       1.00000    -0.26724\n",
       "primerjava -0.26724     1.00000"
      ]
     },
     "execution_count": 64,
     "metadata": {},
     "output_type": "execute_result"
    }
   ],
   "source": [
    "zvrsti[['views', 'primerjava']].mean().sort_values('views', ascending=False).corr()"
   ]
  },
  {
   "cell_type": "markdown",
   "metadata": {},
   "source": [
    "Glede na število objavljenih videov pa pričakovano vodijo kanali, ki nas obveščajo v trenutnih dogodkih (novice, športni kanali, oddaje)."
   ]
  },
  {
   "cell_type": "code",
   "execution_count": 47,
   "metadata": {
    "collapsed": false
   },
   "outputs": [
    {
     "data": {
      "text/plain": [
       "type\n",
       "news             30326.890000\n",
       "sports            6641.660000\n",
       "shows             4017.434343\n",
       "entertainment     3899.950000\n",
       "games             3099.290000\n",
       "tech              2454.848485\n",
       "nonprofit         2108.670000\n",
       "travel            1984.180000\n",
       "people            1880.840000\n",
       "film              1850.080000\n",
       "autos             1340.070000\n",
       "music             1231.570000\n",
       "howto             1003.750000\n",
       "comedy             694.660000\n",
       "animals            540.670000\n",
       "education          442.440000\n",
       "Name: uploads, dtype: float64"
      ]
     },
     "execution_count": 47,
     "metadata": {},
     "output_type": "execute_result"
    }
   ],
   "source": [
    "zvrsti['uploads'].mean().sort_values(ascending=False)"
   ]
  },
  {
   "cell_type": "markdown",
   "metadata": {},
   "source": [
    "Če primerjamo povprečne kanale glede na zvrst, imajo novice skoraj toliko videov kot vse ostale zvrsti skupaj."
   ]
  },
  {
   "cell_type": "code",
   "execution_count": 8,
   "metadata": {
    "collapsed": false,
    "scrolled": false
   },
   "outputs": [
    {
     "data": {
      "text/plain": [
       "<matplotlib.axes._subplots.AxesSubplot at 0x7e33a90>"
      ]
     },
     "execution_count": 8,
     "metadata": {},
     "output_type": "execute_result"
    },
    {
     "data": {
      "image/png": "[encoded data removed]",
      "text/plain": [
       "<matplotlib.figure.Figure at 0x7991ad0>"
      ]
     },
     "metadata": {},
     "output_type": "display_data"
    }
   ],
   "source": [
    "zvrsti['uploads'].mean().sort_values(ascending=False).plot(kind='pie', figsize=(9, 9), fontsize=13)"
   ]
  },
  {
   "cell_type": "markdown",
   "metadata": {},
   "source": [
    "Za konec si oglejmo še statistiko kanalov glede na države iz katerih prihajajo. Iz Združenih držav Amerike prihaja skoraj 40% vseh kanalov. Z veliko razliko ji sledijo Velika Britanija, Rusija, Brazilija in Indija."
   ]
  },
  {
   "cell_type": "code",
   "execution_count": 4,
   "metadata": {
    "collapsed": false
   },
   "outputs": [
    {
     "data": {
      "text/plain": [
       "country\n",
       "us    614\n",
       "gb    103\n",
       "ru     92\n",
       "br     59\n",
       "in     57\n",
       "es     48\n",
       "jp     48\n",
       "ca     46\n",
       "kr     46\n",
       "de     45\n",
       "fr     33\n",
       "mx     32\n",
       "au     28\n",
       "tr     27\n",
       "th     26\n",
       "dtype: int64"
      ]
     },
     "execution_count": 4,
     "metadata": {},
     "output_type": "execute_result"
    }
   ],
   "source": [
    "podatki.groupby('country').size().sort_values(ascending=False)[:15]"
   ]
  },
  {
   "cell_type": "code",
   "execution_count": 5,
   "metadata": {
    "collapsed": false
   },
   "outputs": [
    {
     "data": {
      "image/png": "[encoded data removed]",
      "text/plain": [
       "<matplotlib.figure.Figure at 0x5365130>"
      ]
     },
     "metadata": {},
     "output_type": "display_data"
    }
   ],
   "source": [
    "graf1 = podatki.groupby('country').size().sort_values(ascending=False)[:15]\\\n",
    "    .plot(kind='bar', figsize=(8, 7), fontsize=20, color='g')"
   ]
  },
  {
   "cell_type": "code",
   "execution_count": null,
   "metadata": {
    "collapsed": true
   },
   "outputs": [],
   "source": []
  }
 ],
 "metadata": {
  "kernelspec": {
   "display_name": "Python 3",
   "language": "python",
   "name": "python3"
  },
  "language_info": {
   "codemirror_mode": {
    "name": "ipython",
    "version": 3
   },
   "file_extension": ".py",
   "mimetype": "text/x-python",
   "name": "python",
   "nbconvert_exporter": "python",
   "pygments_lexer": "ipython3",
   "version": "3.4.1"
  }
 },
 "nbformat": 4,
 "nbformat_minor": 0
}
